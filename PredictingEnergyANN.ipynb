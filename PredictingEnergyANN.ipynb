{
  "nbformat": 4,
  "nbformat_minor": 0,
  "metadata": {
    "colab": {
      "name": "PredictingEnergyANN.ipynb",
      "provenance": []
    },
    "kernelspec": {
      "name": "python3",
      "display_name": "Python 3"
    },
    "accelerator": "GPU"
  },
  "cells": [
    {
      "cell_type": "code",
      "metadata": {
        "id": "zSB5hoi4_90R"
      },
      "source": [
        "import pandas as pd\r\n",
        "import numpy as np\r\n",
        "import tensorflow as tf"
      ],
      "execution_count": 1,
      "outputs": []
    },
    {
      "cell_type": "code",
      "metadata": {
        "id": "_07mnpB7A8OL"
      },
      "source": [
        "df = pd.read_excel(\"Folds5x2_pp.xlsx\")"
      ],
      "execution_count": 2,
      "outputs": []
    },
    {
      "cell_type": "code",
      "metadata": {
        "colab": {
          "base_uri": "https://localhost:8080/",
          "height": 198
        },
        "id": "IVmDR993Bj6X",
        "outputId": "67bd38d5-8068-42cf-91ce-7f3b93326e76"
      },
      "source": [
        "df.head()"
      ],
      "execution_count": 3,
      "outputs": [
        {
          "output_type": "execute_result",
          "data": {
            "text/html": [
              "<div>\n",
              "<style scoped>\n",
              "    .dataframe tbody tr th:only-of-type {\n",
              "        vertical-align: middle;\n",
              "    }\n",
              "\n",
              "    .dataframe tbody tr th {\n",
              "        vertical-align: top;\n",
              "    }\n",
              "\n",
              "    .dataframe thead th {\n",
              "        text-align: right;\n",
              "    }\n",
              "</style>\n",
              "<table border=\"1\" class=\"dataframe\">\n",
              "  <thead>\n",
              "    <tr style=\"text-align: right;\">\n",
              "      <th></th>\n",
              "      <th>AT</th>\n",
              "      <th>V</th>\n",
              "      <th>AP</th>\n",
              "      <th>RH</th>\n",
              "      <th>PE</th>\n",
              "    </tr>\n",
              "  </thead>\n",
              "  <tbody>\n",
              "    <tr>\n",
              "      <th>0</th>\n",
              "      <td>14.96</td>\n",
              "      <td>41.76</td>\n",
              "      <td>1024.07</td>\n",
              "      <td>73.17</td>\n",
              "      <td>463.26</td>\n",
              "    </tr>\n",
              "    <tr>\n",
              "      <th>1</th>\n",
              "      <td>25.18</td>\n",
              "      <td>62.96</td>\n",
              "      <td>1020.04</td>\n",
              "      <td>59.08</td>\n",
              "      <td>444.37</td>\n",
              "    </tr>\n",
              "    <tr>\n",
              "      <th>2</th>\n",
              "      <td>5.11</td>\n",
              "      <td>39.40</td>\n",
              "      <td>1012.16</td>\n",
              "      <td>92.14</td>\n",
              "      <td>488.56</td>\n",
              "    </tr>\n",
              "    <tr>\n",
              "      <th>3</th>\n",
              "      <td>20.86</td>\n",
              "      <td>57.32</td>\n",
              "      <td>1010.24</td>\n",
              "      <td>76.64</td>\n",
              "      <td>446.48</td>\n",
              "    </tr>\n",
              "    <tr>\n",
              "      <th>4</th>\n",
              "      <td>10.82</td>\n",
              "      <td>37.50</td>\n",
              "      <td>1009.23</td>\n",
              "      <td>96.62</td>\n",
              "      <td>473.90</td>\n",
              "    </tr>\n",
              "  </tbody>\n",
              "</table>\n",
              "</div>"
            ],
            "text/plain": [
              "      AT      V       AP     RH      PE\n",
              "0  14.96  41.76  1024.07  73.17  463.26\n",
              "1  25.18  62.96  1020.04  59.08  444.37\n",
              "2   5.11  39.40  1012.16  92.14  488.56\n",
              "3  20.86  57.32  1010.24  76.64  446.48\n",
              "4  10.82  37.50  1009.23  96.62  473.90"
            ]
          },
          "metadata": {
            "tags": []
          },
          "execution_count": 3
        }
      ]
    },
    {
      "cell_type": "code",
      "metadata": {
        "id": "HlkJXlvABoRg"
      },
      "source": [
        "X=df.iloc[:,:-1].values\r\n",
        "y=df.iloc[:,-1].values"
      ],
      "execution_count": 4,
      "outputs": []
    },
    {
      "cell_type": "code",
      "metadata": {
        "id": "BBgq9nRJCqvA"
      },
      "source": [
        "from sklearn.model_selection import train_test_split\r\n",
        "X_train,X_test,y_train,y_test = train_test_split(X,y,test_size=0.2,random_state=0)"
      ],
      "execution_count": 5,
      "outputs": []
    },
    {
      "cell_type": "code",
      "metadata": {
        "id": "4D4xHBT0DGXY"
      },
      "source": [
        "ann  = tf.keras.models.Sequential()"
      ],
      "execution_count": 9,
      "outputs": []
    },
    {
      "cell_type": "code",
      "metadata": {
        "id": "bErgaJwhzRMz"
      },
      "source": [
        "ann.add(tf.keras.layers.Dense(units=6,activation=\"relu\"))\r\n",
        "ann.add(tf.keras.layers.Dense(units=6,activation=\"relu\"))"
      ],
      "execution_count": 10,
      "outputs": []
    },
    {
      "cell_type": "code",
      "metadata": {
        "id": "KysSgUUh0eBQ"
      },
      "source": [
        "# As we are dealing with regression problem so activation function should be given as None.i.e no activation function.\r\n",
        "ann.add(tf.keras.layers.Dense(units=1,activation=None))"
      ],
      "execution_count": 11,
      "outputs": []
    },
    {
      "cell_type": "code",
      "metadata": {
        "id": "EJuXpXx51EVW"
      },
      "source": [
        "ann.compile(optimizer=\"adam\",loss=\"mean_squared_error\")"
      ],
      "execution_count": 13,
      "outputs": []
    },
    {
      "cell_type": "code",
      "metadata": {
        "colab": {
          "base_uri": "https://localhost:8080/"
        },
        "id": "nW6-MNSu1qcf",
        "outputId": "af6c5fce-dacc-4c97-e983-3a726ac9f802"
      },
      "source": [
        "ann.fit(X_train,y_train,batch_size=32,epochs=100)"
      ],
      "execution_count": 14,
      "outputs": [
        {
          "output_type": "stream",
          "text": [
            "Epoch 1/100\n",
            "240/240 [==============================] - 2s 2ms/step - loss: 12752.1469\n",
            "Epoch 2/100\n",
            "240/240 [==============================] - 0s 2ms/step - loss: 120.5202\n",
            "Epoch 3/100\n",
            "240/240 [==============================] - 0s 2ms/step - loss: 118.3805\n",
            "Epoch 4/100\n",
            "240/240 [==============================] - 0s 2ms/step - loss: 110.7883\n",
            "Epoch 5/100\n",
            "240/240 [==============================] - 0s 2ms/step - loss: 102.0623\n",
            "Epoch 6/100\n",
            "240/240 [==============================] - 0s 2ms/step - loss: 91.7654\n",
            "Epoch 7/100\n",
            "240/240 [==============================] - 0s 2ms/step - loss: 85.1633\n",
            "Epoch 8/100\n",
            "240/240 [==============================] - 0s 2ms/step - loss: 76.2422\n",
            "Epoch 9/100\n",
            "240/240 [==============================] - 0s 2ms/step - loss: 68.9710\n",
            "Epoch 10/100\n",
            "240/240 [==============================] - 0s 2ms/step - loss: 64.5694\n",
            "Epoch 11/100\n",
            "240/240 [==============================] - 0s 2ms/step - loss: 57.0761\n",
            "Epoch 12/100\n",
            "240/240 [==============================] - 0s 2ms/step - loss: 50.9333\n",
            "Epoch 13/100\n",
            "240/240 [==============================] - 0s 2ms/step - loss: 45.7688\n",
            "Epoch 14/100\n",
            "240/240 [==============================] - 0s 2ms/step - loss: 42.8916\n",
            "Epoch 15/100\n",
            "240/240 [==============================] - 0s 2ms/step - loss: 39.9042\n",
            "Epoch 16/100\n",
            "240/240 [==============================] - 0s 2ms/step - loss: 37.1142\n",
            "Epoch 17/100\n",
            "240/240 [==============================] - 0s 2ms/step - loss: 35.5414\n",
            "Epoch 18/100\n",
            "240/240 [==============================] - 0s 2ms/step - loss: 34.5896\n",
            "Epoch 19/100\n",
            "240/240 [==============================] - 0s 2ms/step - loss: 33.7730\n",
            "Epoch 20/100\n",
            "240/240 [==============================] - 0s 2ms/step - loss: 32.3245\n",
            "Epoch 21/100\n",
            "240/240 [==============================] - 0s 2ms/step - loss: 33.6518\n",
            "Epoch 22/100\n",
            "240/240 [==============================] - 0s 2ms/step - loss: 32.3276\n",
            "Epoch 23/100\n",
            "240/240 [==============================] - 0s 2ms/step - loss: 30.7284\n",
            "Epoch 24/100\n",
            "240/240 [==============================] - 0s 2ms/step - loss: 30.6040\n",
            "Epoch 25/100\n",
            "240/240 [==============================] - 0s 2ms/step - loss: 30.2345\n",
            "Epoch 26/100\n",
            "240/240 [==============================] - 0s 2ms/step - loss: 31.6494\n",
            "Epoch 27/100\n",
            "240/240 [==============================] - 0s 2ms/step - loss: 31.1493\n",
            "Epoch 28/100\n",
            "240/240 [==============================] - 0s 2ms/step - loss: 30.5167\n",
            "Epoch 29/100\n",
            "240/240 [==============================] - 0s 2ms/step - loss: 30.5664\n",
            "Epoch 30/100\n",
            "240/240 [==============================] - 0s 2ms/step - loss: 29.3623\n",
            "Epoch 31/100\n",
            "240/240 [==============================] - 0s 2ms/step - loss: 28.7773\n",
            "Epoch 32/100\n",
            "240/240 [==============================] - 0s 2ms/step - loss: 29.9252\n",
            "Epoch 33/100\n",
            "240/240 [==============================] - 0s 2ms/step - loss: 28.6441\n",
            "Epoch 34/100\n",
            "240/240 [==============================] - 0s 2ms/step - loss: 29.1759\n",
            "Epoch 35/100\n",
            "240/240 [==============================] - 0s 2ms/step - loss: 28.5993\n",
            "Epoch 36/100\n",
            "240/240 [==============================] - 0s 2ms/step - loss: 28.3127\n",
            "Epoch 37/100\n",
            "240/240 [==============================] - 0s 2ms/step - loss: 28.4630\n",
            "Epoch 38/100\n",
            "240/240 [==============================] - 0s 2ms/step - loss: 28.1880\n",
            "Epoch 39/100\n",
            "240/240 [==============================] - 0s 2ms/step - loss: 26.5144\n",
            "Epoch 40/100\n",
            "240/240 [==============================] - 0s 2ms/step - loss: 26.9851\n",
            "Epoch 41/100\n",
            "240/240 [==============================] - 0s 2ms/step - loss: 27.2157\n",
            "Epoch 42/100\n",
            "240/240 [==============================] - 0s 2ms/step - loss: 27.8409\n",
            "Epoch 43/100\n",
            "240/240 [==============================] - 0s 2ms/step - loss: 28.1454\n",
            "Epoch 44/100\n",
            "240/240 [==============================] - 0s 2ms/step - loss: 26.6716\n",
            "Epoch 45/100\n",
            "240/240 [==============================] - 0s 2ms/step - loss: 26.2136\n",
            "Epoch 46/100\n",
            "240/240 [==============================] - 0s 2ms/step - loss: 29.1607\n",
            "Epoch 47/100\n",
            "240/240 [==============================] - 0s 2ms/step - loss: 26.9854\n",
            "Epoch 48/100\n",
            "240/240 [==============================] - 0s 2ms/step - loss: 27.5759\n",
            "Epoch 49/100\n",
            "240/240 [==============================] - 0s 2ms/step - loss: 26.9717\n",
            "Epoch 50/100\n",
            "240/240 [==============================] - 0s 2ms/step - loss: 27.6259\n",
            "Epoch 51/100\n",
            "240/240 [==============================] - 0s 2ms/step - loss: 26.3746\n",
            "Epoch 52/100\n",
            "240/240 [==============================] - 0s 2ms/step - loss: 28.5996\n",
            "Epoch 53/100\n",
            "240/240 [==============================] - 0s 2ms/step - loss: 27.5588\n",
            "Epoch 54/100\n",
            "240/240 [==============================] - 0s 2ms/step - loss: 26.6241\n",
            "Epoch 55/100\n",
            "240/240 [==============================] - 0s 2ms/step - loss: 27.0468\n",
            "Epoch 56/100\n",
            "240/240 [==============================] - 0s 2ms/step - loss: 27.1519\n",
            "Epoch 57/100\n",
            "240/240 [==============================] - 0s 2ms/step - loss: 26.4339\n",
            "Epoch 58/100\n",
            "240/240 [==============================] - 0s 2ms/step - loss: 27.3192\n",
            "Epoch 59/100\n",
            "240/240 [==============================] - 0s 2ms/step - loss: 27.7769\n",
            "Epoch 60/100\n",
            "240/240 [==============================] - 0s 2ms/step - loss: 27.3508\n",
            "Epoch 61/100\n",
            "240/240 [==============================] - 0s 2ms/step - loss: 26.8669\n",
            "Epoch 62/100\n",
            "240/240 [==============================] - 0s 2ms/step - loss: 26.4573\n",
            "Epoch 63/100\n",
            "240/240 [==============================] - 0s 2ms/step - loss: 27.3486\n",
            "Epoch 64/100\n",
            "240/240 [==============================] - 0s 2ms/step - loss: 26.4068\n",
            "Epoch 65/100\n",
            "240/240 [==============================] - 0s 2ms/step - loss: 26.8363\n",
            "Epoch 66/100\n",
            "240/240 [==============================] - 0s 2ms/step - loss: 28.6125\n",
            "Epoch 67/100\n",
            "240/240 [==============================] - 0s 2ms/step - loss: 26.3610\n",
            "Epoch 68/100\n",
            "240/240 [==============================] - 0s 2ms/step - loss: 26.4403\n",
            "Epoch 69/100\n",
            "240/240 [==============================] - 0s 2ms/step - loss: 26.1792\n",
            "Epoch 70/100\n",
            "240/240 [==============================] - 0s 2ms/step - loss: 25.8168\n",
            "Epoch 71/100\n",
            "240/240 [==============================] - 0s 2ms/step - loss: 25.7383\n",
            "Epoch 72/100\n",
            "240/240 [==============================] - 0s 2ms/step - loss: 27.6225\n",
            "Epoch 73/100\n",
            "240/240 [==============================] - 0s 2ms/step - loss: 27.4367\n",
            "Epoch 74/100\n",
            "240/240 [==============================] - 0s 2ms/step - loss: 25.7626\n",
            "Epoch 75/100\n",
            "240/240 [==============================] - 0s 2ms/step - loss: 26.6124\n",
            "Epoch 76/100\n",
            "240/240 [==============================] - 0s 2ms/step - loss: 26.0416\n",
            "Epoch 77/100\n",
            "240/240 [==============================] - 0s 2ms/step - loss: 26.9064\n",
            "Epoch 78/100\n",
            "240/240 [==============================] - 0s 2ms/step - loss: 27.1123\n",
            "Epoch 79/100\n",
            "240/240 [==============================] - 0s 2ms/step - loss: 26.1003\n",
            "Epoch 80/100\n",
            "240/240 [==============================] - 0s 2ms/step - loss: 25.5165\n",
            "Epoch 81/100\n",
            "240/240 [==============================] - 0s 2ms/step - loss: 26.3995\n",
            "Epoch 82/100\n",
            "240/240 [==============================] - 0s 2ms/step - loss: 26.6445\n",
            "Epoch 83/100\n",
            "240/240 [==============================] - 0s 2ms/step - loss: 26.7112\n",
            "Epoch 84/100\n",
            "240/240 [==============================] - 0s 2ms/step - loss: 27.6637\n",
            "Epoch 85/100\n",
            "240/240 [==============================] - 0s 2ms/step - loss: 26.5443\n",
            "Epoch 86/100\n",
            "240/240 [==============================] - 0s 2ms/step - loss: 26.2453\n",
            "Epoch 87/100\n",
            "240/240 [==============================] - 0s 2ms/step - loss: 25.4729\n",
            "Epoch 88/100\n",
            "240/240 [==============================] - 0s 2ms/step - loss: 26.8560\n",
            "Epoch 89/100\n",
            "240/240 [==============================] - 0s 2ms/step - loss: 26.2984\n",
            "Epoch 90/100\n",
            "240/240 [==============================] - 0s 2ms/step - loss: 26.3150\n",
            "Epoch 91/100\n",
            "240/240 [==============================] - 0s 2ms/step - loss: 27.0684\n",
            "Epoch 92/100\n",
            "240/240 [==============================] - 0s 2ms/step - loss: 26.1954\n",
            "Epoch 93/100\n",
            "240/240 [==============================] - 0s 2ms/step - loss: 25.7223\n",
            "Epoch 94/100\n",
            "240/240 [==============================] - 0s 2ms/step - loss: 26.9063\n",
            "Epoch 95/100\n",
            "240/240 [==============================] - 0s 2ms/step - loss: 26.6311\n",
            "Epoch 96/100\n",
            "240/240 [==============================] - 0s 2ms/step - loss: 28.7722\n",
            "Epoch 97/100\n",
            "240/240 [==============================] - 0s 2ms/step - loss: 26.2176\n",
            "Epoch 98/100\n",
            "240/240 [==============================] - 0s 2ms/step - loss: 25.6517\n",
            "Epoch 99/100\n",
            "240/240 [==============================] - 0s 2ms/step - loss: 26.4469\n",
            "Epoch 100/100\n",
            "240/240 [==============================] - 0s 2ms/step - loss: 27.2268\n"
          ],
          "name": "stdout"
        },
        {
          "output_type": "execute_result",
          "data": {
            "text/plain": [
              "<tensorflow.python.keras.callbacks.History at 0x7f37f9b2f860>"
            ]
          },
          "metadata": {
            "tags": []
          },
          "execution_count": 14
        }
      ]
    },
    {
      "cell_type": "code",
      "metadata": {
        "id": "RWRlq0TQ2DtM"
      },
      "source": [
        "y_predict = ann.predict(X_test)"
      ],
      "execution_count": 40,
      "outputs": []
    },
    {
      "cell_type": "code",
      "metadata": {
        "colab": {
          "base_uri": "https://localhost:8080/"
        },
        "id": "FCm-wnGB3jnV",
        "outputId": "9c178dd2-eb49-408d-e996-f0f1278707df"
      },
      "source": [
        "np.set_printoptions(precision=2)\r\n",
        "print(np.concatenate((y_predict.reshape(len(y_predict),1),y_test.reshape(len(y_test),1)),1))"
      ],
      "execution_count": 46,
      "outputs": [
        {
          "output_type": "stream",
          "text": [
            "[[430.18 431.23]\n",
            " [461.15 460.01]\n",
            " [465.36 461.14]\n",
            " ...\n",
            " [472.6  473.26]\n",
            " [438.71 438.  ]\n",
            " [457.4  463.28]]\n"
          ],
          "name": "stdout"
        }
      ]
    },
    {
      "cell_type": "code",
      "metadata": {
        "id": "ixK4piAG3z6l"
      },
      "source": [
        ""
      ],
      "execution_count": null,
      "outputs": []
    }
  ]
}